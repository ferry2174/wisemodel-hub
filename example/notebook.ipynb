{
 "cells": [
  {
   "cell_type": "markdown",
   "metadata": {},
   "source": [
    "### 文件下载测试"
   ]
  },
  {
   "cell_type": "code",
   "execution_count": null,
   "metadata": {},
   "outputs": [],
   "source": [
    "from wisemodel_hub import file_download\n",
    "\n",
    "repo_id = \"dadbear/wm_hub_upload_test\"\n",
    "file_name = \"model.pt\" #\"yuzhi_architecture.drawio.png\"\n",
    "local_dir = None # \"/home/zhangjingbo/.cache/wisemodel/hub_test\"\n",
    "revision = \"root-main-patch-53430\"\n",
    "force_download = True\n",
    "\n",
    "file_download(repo_id, file_name, local_dir=local_dir, revision=revision, force_download=force_download)"
   ]
  },
  {
   "cell_type": "markdown",
   "metadata": {},
   "source": [
    "### 大文件下载"
   ]
  },
  {
   "cell_type": "code",
   "execution_count": null,
   "metadata": {},
   "outputs": [],
   "source": [
    "from wisemodel_hub import lfs_file_download\n",
    "\n",
    "repo_id = \"dadbear/wm_hub_upload_test\"\n",
    "file_name = \"model.pt\"\n",
    "local_dir = \"/home/zhangjingbo/.cache/wisemodel/hub_test\"\n",
    "revision = \"root-main-patch-53430\"\n",
    "num_parts = 8\n",
    "force_download = True\n",
    "\n",
    "lfs_file_download(repo_id, file_name, local_dir=local_dir, revision=revision, num_parts=num_parts, force_download=force_download)"
   ]
  },
  {
   "cell_type": "markdown",
   "metadata": {},
   "source": [
    "### 下载整库，snap_download\n"
   ]
  },
  {
   "cell_type": "code",
   "execution_count": null,
   "metadata": {},
   "outputs": [],
   "source": [
    "from wisemodel_hub import snapshot_download\n",
    "\n",
    "repo_id= \"dadbear/wm_hub_upload_test\"\n",
    "local_dir = \"/home/zhangjingbo/.cache/wisemodel/hub_test\"\n",
    "revision = \"root-main-patch-53430\"\n",
    "regex_pattern = \".*\\.(png|md|txt|pt)$\"\n",
    "num_parts = 8\n",
    "force_download = True\n",
    "\n",
    "snapshot_download(repo_id, local_dir=local_dir, revision=revision, regex_pattern=regex_pattern, num_parts=num_parts, force_download=force_download)"
   ]
  },
  {
   "cell_type": "markdown",
   "metadata": {},
   "source": [
    "### 获取库下文件列表"
   ]
  },
  {
   "cell_type": "code",
   "execution_count": 4,
   "metadata": {},
   "outputs": [
    {
     "name": "stdout",
     "output_type": "stream",
     "text": [
      "['.gitattributes', '11139065-7bf9cdfde5fb9298.webp', '640.png', 'Discord_updater_r00000.log', 'README.md', 'Update.exe', 'chunk_test.txt', 'chunk_test_ag.txt', 'chunk_test_again.txt', 'model.pt', 'transformers_overview.png', 'yuzhi_architecture.drawio.png', '天工大模型论文 - 2310.19341v1.pdf']\n"
     ]
    }
   ],
   "source": [
    "from wisemodel_hub.utils import get_file_names\n",
    "\n",
    "repo_id = \"dadbear/wm_hub_upload_test\"\n",
    "revision = \"root-main-patch-53430\"\n",
    "\n",
    "files = get_file_names(repo_id, revision)\n",
    "print(files)"
   ]
  },
  {
   "cell_type": "markdown",
   "metadata": {},
   "source": [
    "### 上传单个文件"
   ]
  },
  {
   "cell_type": "code",
   "execution_count": null,
   "metadata": {},
   "outputs": [],
   "source": [
    "from wisemodel_hub import upload_file\n",
    "\n",
    "# 示例调用\n",
    "file_path = \"/home/zhangjingbo/.cache/wisemodel/.token\"\n",
    "repo_id = \"dadbear/wm_hub_upload_test\"\n",
    "repo_type = \"datasets\"\n",
    "branch = \"main\"\n",
    "commit_message = \"添加文件\"\n",
    "chunk_size = 1024 * 1024  # 设置文件块大小，例如1 MB\n",
    "retries = 3\n",
    "timeout = 10\n",
    "upload_file(file_path, repo_id, repo_type, branch, commit_message, chunk_size, retries=retries, timeout=timeout)"
   ]
  },
  {
   "cell_type": "markdown",
   "metadata": {},
   "source": [
    "### 上传文件夹"
   ]
  },
  {
   "cell_type": "code",
   "execution_count": null,
   "metadata": {},
   "outputs": [],
   "source": [
    "from wisemodel_hub import push_to_hub\n",
    "\n",
    "# 示例调用\n",
    "dir_path = \"/home/zhangjingbo/.cache/modelscope/hub/iic/SenseVoiceSmall\"\n",
    "repo_id = \"dadbear/wm_hub_upload_test\"\n",
    "repo_type = \"datasets\"\n",
    "regex_pattern = \".*\\.(md|json|pt)$\"\n",
    "branch = \"main\"\n",
    "commit_message = \"添加文件\"\n",
    "chunk_size = 1024 * 1024  # 设置文件块大小，例如1 MB\n",
    "retries = 3  # 设置重试次数\n",
    "timeout = 10  # 设置超时时间\n",
    "push_to_hub(dir_path, repo_id, repo_type, regex_pattern, branch, commit_message, chunk_size, retries=retries, timeout=timeout)"
   ]
  },
  {
   "cell_type": "markdown",
   "metadata": {},
   "source": [
    "### 登录"
   ]
  },
  {
   "cell_type": "code",
   "execution_count": null,
   "metadata": {},
   "outputs": [
    {
     "name": "stderr",
     "output_type": "stream",
     "text": [
      "2024-12-08 21:08:54,005 - INFO - User is already logged in. If you want to login with a different account, invoke notebook_login() or login() function, and set `new_session=True`\n"
     ]
    }
   ],
   "source": [
    "from wisemodel_hub.auth import notebook_login\n",
    "\n",
    "notebook_login(new_session=True)"
   ]
  }
 ],
 "metadata": {
  "kernelspec": {
   "display_name": "python_310",
   "language": "python",
   "name": "python3"
  },
  "language_info": {
   "codemirror_mode": {
    "name": "ipython",
    "version": 3
   },
   "file_extension": ".py",
   "mimetype": "text/x-python",
   "name": "python",
   "nbconvert_exporter": "python",
   "pygments_lexer": "ipython3",
   "version": "3.10.14"
  }
 },
 "nbformat": 4,
 "nbformat_minor": 2
}
